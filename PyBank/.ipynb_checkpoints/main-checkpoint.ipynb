{
 "cells": [
  {
   "cell_type": "code",
   "execution_count": 30,
   "id": "af1f052d-4a2a-4084-98a2-dcf55e4def89",
   "metadata": {},
   "outputs": [
    {
     "name": "stdout",
     "output_type": "stream",
     "text": [
      "Financial Analysis\n",
      "----------------------------\n",
      "Total Months: 86\n",
      "Total: $38382578\n",
      "Average  Change: $-2315.1176470588234\n",
      "Greatest Increase in Profits: $1926159\n",
      "Greatest Decrease in Profits: $-2196167\n"
     ]
    }
   ],
   "source": [
    "import csv\n",
    "\n",
    "budget_data = []\n",
    "with open('./budget_data.csv', 'r') as csv_file:\n",
    "    csv_file = csv.reader(csv_file, delimiter=',')\n",
    "    next(csv_file, None)\n",
    "    for row in csv_file:\n",
    "        budget_data.append(row)\n",
    "\n",
    "month_count = 0\n",
    "for row in budget_data:\n",
    "    month_count += 1\n",
    "\n",
    "net_total = 0\n",
    "for row in budget_data:\n",
    "    net_total += int(row[1])\n",
    "\n",
    "profits_losses = []\n",
    "for row in budget_data:\n",
    "    profits_losses.append(int(row[1]))\n",
    "\n",
    "monthly_deltas = []\n",
    "for n in range(1, len(profits_losses)):\n",
    "    monthly_deltas.append(profits_losses[n] - profits_losses[n-1])\n",
    "\n",
    "print('Financial Analysis')\n",
    "print('----------------------------')\n",
    "print('Total Months: ', month_count, sep='')\n",
    "print('Total: $', net_total, sep='')\n",
    "print('Average  Change: $', sum(monthly_deltas) / len(monthly_deltas), sep='')\n",
    "print('Greatest Increase in Profits: $', max(monthly_deltas), sep='')\n",
    "print('Greatest Decrease in Profits: $', min(monthly_deltas), sep='')\n",
    "    \n",
    "export = open(\"export.txt\", \"a\")\n",
    "print('Financial Analysis', file=export)\n",
    "print('----------------------------', file=export)\n",
    "print('Total Months: ', month_count, sep='', file=export)\n",
    "print('Total: $', net_total, sep='', file=export)\n",
    "print('Average  Change: $', sum(monthly_deltas) / len(monthly_deltas), sep='', file=export)\n",
    "print('Greatest Increase in Profits: $', max(monthly_deltas), sep='', file=export)\n",
    "print('Greatest Decrease in Profits: $', min(monthly_deltas), sep='', file=export)\n",
    "f.close()"
   ]
  },
  {
   "cell_type": "code",
   "execution_count": null,
   "id": "a261c8c7-f6fb-4ed3-a103-d4145de39998",
   "metadata": {},
   "outputs": [],
   "source": []
  }
 ],
 "metadata": {
  "kernelspec": {
   "display_name": "Python 3 (ipykernel)",
   "language": "python",
   "name": "python3"
  },
  "language_info": {
   "codemirror_mode": {
    "name": "ipython",
    "version": 3
   },
   "file_extension": ".py",
   "mimetype": "text/x-python",
   "name": "python",
   "nbconvert_exporter": "python",
   "pygments_lexer": "ipython3",
   "version": "3.9.7"
  }
 },
 "nbformat": 4,
 "nbformat_minor": 5
}
